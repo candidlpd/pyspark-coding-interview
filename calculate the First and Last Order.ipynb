{
 "cells": [
  {
   "cell_type": "code",
   "execution_count": 1,
   "metadata": {},
   "outputs": [
    {
     "data": {
      "text/plain": [
       "'H:\\\\pyspark_advanced-coding_interview'"
      ]
     },
     "execution_count": 1,
     "metadata": {},
     "output_type": "execute_result"
    }
   ],
   "source": [
    "import os\n",
    "os.getcwd()\n",
    "os.chdir(\"H:\\pyspark_advanced-coding_interview\")\n",
    "os.getcwd()"
   ]
  },
  {
   "cell_type": "code",
   "execution_count": 2,
   "metadata": {},
   "outputs": [],
   "source": [
    "from pyspark.sql import SparkSession\n",
    "\n",
    "# Create a Spark session with optimized settings\n",
    "spark = (\n",
    "    SparkSession.builder \n",
    "    .appName(\"OptimizedLocalSpark\") \n",
    "    .config(\"spark.driver.memory\", \"8g\")        \n",
    "    .config(\"spark.executor.memory\", \"8g\")    \n",
    "    .config(\"spark.executor.cores\", \"4\")       \n",
    "    .config(\"spark.cores.max\", \"12\")           \n",
    "    .config(\"spark.sql.shuffle.partitions\", \"28\")  \n",
    "    .config(\"spark.serializer\", \"org.apache.spark.serializer.KryoSerializer\") \n",
    "    .getOrCreate()\n",
    ")\n",
    "sc = spark.sparkContext\n"
   ]
  },
  {
   "cell_type": "code",
   "execution_count": 3,
   "metadata": {},
   "outputs": [
    {
     "name": "stdout",
     "output_type": "stream",
     "text": [
      "+----------------+----------+----------+\n",
      "|SalesOrderNumber| OrderDate|  TotalDue|\n",
      "+----------------+----------+----------+\n",
      "|         SO71858|2008-01-04|15275.1977|\n",
      "|         SO71895|2008-03-22|  272.6468|\n",
      "|         SO71897|2008-04-10|14017.9083|\n",
      "|         SO71920|2008-05-15| 3293.7761|\n",
      "|         SO71774|2008-06-25|   972.785|\n",
      "|         SO71786|2008-07-03|   87.0851|\n",
      "|         SO71782|2008-08-13|42452.6519|\n",
      "|         SO71783|2008-08-16|43962.7901|\n",
      "|         SO71793|2008-09-21|32663.5609|\n",
      "|         SO71796|2008-10-11|63686.2708|\n",
      "|         SO71797|2008-10-25|86222.8072|\n",
      "|         SO81758|2009-01-14|18275.4871|\n",
      "|         SO81895|2009-03-30|  3172.468|\n",
      "|         SO81897|2009-04-12|16027.1903|\n",
      "|         SO81920|2009-05-20| 4529.8761|\n",
      "|         SO91774|2009-06-05| 19872.785|\n",
      "|         SO91786|2009-07-13| 5687.0901|\n",
      "|         SO91782|2009-08-19|30242.6519|\n",
      "|         SO91783|2009-09-25|50962.7901|\n",
      "|         SO91793|2009-10-18|41263.7609|\n",
      "+----------------+----------+----------+\n",
      "only showing top 20 rows\n",
      "\n"
     ]
    }
   ],
   "source": [
    "from pyspark.sql import SparkSession\n",
    "from pyspark.sql.functions import col, year, month, sum\n",
    "\n",
    "\n",
    "\n",
    "# Extended sample data\n",
    "data = [\n",
    "    (\"SO71858\", \"2008-01-04\", 15275.1977),\n",
    "    (\"SO71895\", \"2008-03-22\", 272.6468),\n",
    "    (\"SO71897\", \"2008-04-10\", 14017.9083),\n",
    "    (\"SO71920\", \"2008-05-15\", 3293.7761),\n",
    "    (\"SO71774\", \"2008-06-25\", 972.785),\n",
    "    (\"SO71786\", \"2008-07-03\", 87.0851),\n",
    "    (\"SO71782\", \"2008-08-13\", 42452.6519),\n",
    "    (\"SO71783\", \"2008-08-16\", 43962.7901),\n",
    "    (\"SO71793\", \"2008-09-21\", 32663.5609),\n",
    "    (\"SO71796\", \"2008-10-11\", 63686.2708),\n",
    "    (\"SO71797\", \"2008-10-25\", 86222.8072),\n",
    "    (\"SO81758\", \"2009-01-14\", 18275.4871),\n",
    "    (\"SO81895\", \"2009-03-30\", 3172.468),\n",
    "    (\"SO81897\", \"2009-04-12\", 16027.1903),\n",
    "    (\"SO81920\", \"2009-05-20\", 4529.8761),\n",
    "    (\"SO91774\", \"2009-06-05\", 19872.785),\n",
    "    (\"SO91786\", \"2009-07-13\", 5687.0901),\n",
    "    (\"SO91782\", \"2009-08-19\", 30242.6519),\n",
    "    (\"SO91783\", \"2009-09-25\", 50962.7901),\n",
    "    (\"SO91793\", \"2009-10-18\", 41263.7609),\n",
    "    (\"SO91896\", \"2009-11-05\", 73686.2908),\n",
    "    (\"SO71858\", \"2010-01-04\", 17275.1277),\n",
    "    (\"SO71895\", \"2010-03-22\", 3272.7468),\n",
    "    (\"SO71897\", \"2010-04-10\", 14417.9083),\n",
    "    (\"SO71920\", \"2010-05-15\", 1293.7761),\n",
    "    (\"SO71774\", \"2010-06-25\", 1472.785),\n",
    "    (\"SO71786\", \"2010-07-03\", 187.0851),\n",
    "    (\"SO71782\", \"2010-08-13\", 37452.6519),\n",
    "    (\"SO71783\", \"2010-09-16\", 43962.2901),\n",
    "    (\"SO71793\", \"2010-10-21\", 22663.5609)\n",
    "]\n",
    "\n",
    "# Define schema for DataFrame\n",
    "columns = [\"SalesOrderNumber\", \"OrderDate\", \"TotalDue\"]\n",
    "\n",
    "# Create DataFrame\n",
    "df = spark.createDataFrame(data, columns)\n",
    "\n",
    "# Convert OrderDate to proper Date type\n",
    "df = df.withColumn(\"OrderDate\", col(\"OrderDate\").cast(\"date\"))\n",
    "\n",
    "# Register DataFrame as a SQL temporary view\n",
    "df.createOrReplaceTempView(\"Sales\")\n",
    "\n",
    "\n",
    "\n",
    "\n",
    "df.cache()\n",
    "# Register DataFrame as a SQL temporary view\n",
    "df.createOrReplaceTempView(\"Sales\")\n",
    "df.show()\n"
   ]
  },
  {
   "cell_type": "markdown",
   "metadata": {},
   "source": [
    "# Spark SQL"
   ]
  },
  {
   "cell_type": "code",
   "execution_count": 6,
   "metadata": {},
   "outputs": [
    {
     "name": "stdout",
     "output_type": "stream",
     "text": [
      "+----------------+----------+----------+-----------+-----------------+----------+----------------+\n",
      "|SalesOrderNumber| OrderDate|  TotalDue|FIRST_ORDER|FIRST_ORDER_FRAME|LAST_ORDER|LAST_ORDER_FRAME|\n",
      "+----------------+----------+----------+-----------+-----------------+----------+----------------+\n",
      "|         SO71858|2008-01-04|15275.1977|    SO71858|          SO71858|   SO71858|         SO71858|\n",
      "|         SO71895|2008-03-22|  272.6468|    SO71858|          SO71858|   SO71895|         SO71895|\n",
      "|         SO71897|2008-04-10|14017.9083|    SO71858|          SO71858|   SO71897|         SO71897|\n",
      "|         SO71920|2008-05-15| 3293.7761|    SO71858|          SO71858|   SO71920|         SO71920|\n",
      "|         SO71774|2008-06-25|   972.785|    SO71858|          SO71858|   SO71774|         SO71774|\n",
      "|         SO71786|2008-07-03|   87.0851|    SO71858|          SO71858|   SO71786|         SO71786|\n",
      "|         SO71782|2008-08-13|42452.6519|    SO71858|          SO71858|   SO71782|         SO71782|\n",
      "|         SO71783|2008-08-16|43962.7901|    SO71858|          SO71858|   SO71783|         SO71783|\n",
      "|         SO71793|2008-09-21|32663.5609|    SO71858|          SO71858|   SO71793|         SO71793|\n",
      "|         SO71796|2008-10-11|63686.2708|    SO71858|          SO71858|   SO71796|         SO71796|\n",
      "|         SO71797|2008-10-25|86222.8072|    SO71858|          SO71858|   SO71797|         SO71797|\n",
      "|         SO81758|2009-01-14|18275.4871|    SO81758|          SO81758|   SO81758|         SO81758|\n",
      "|         SO81895|2009-03-30|  3172.468|    SO81758|          SO81758|   SO81895|         SO81895|\n",
      "|         SO81897|2009-04-12|16027.1903|    SO81758|          SO81758|   SO81897|         SO81897|\n",
      "|         SO81920|2009-05-20| 4529.8761|    SO81758|          SO81758|   SO81920|         SO81920|\n",
      "|         SO91774|2009-06-05| 19872.785|    SO81758|          SO81758|   SO91774|         SO91774|\n",
      "|         SO91786|2009-07-13| 5687.0901|    SO81758|          SO81758|   SO91786|         SO91786|\n",
      "|         SO91782|2009-08-19|30242.6519|    SO81758|          SO81758|   SO91782|         SO91782|\n",
      "|         SO91783|2009-09-25|50962.7901|    SO81758|          SO81758|   SO91783|         SO91783|\n",
      "|         SO91793|2009-10-18|41263.7609|    SO81758|          SO81758|   SO91793|         SO91793|\n",
      "+----------------+----------+----------+-----------+-----------------+----------+----------------+\n",
      "only showing top 20 rows\n",
      "\n"
     ]
    }
   ],
   "source": [
    "res = spark.sql(\"\"\"\n",
    "select SalesOrderNumber, OrderDate, TotalDue, \n",
    "first_value(SalesOrderNumber) over (partition by year(OrderDate) order by OrderDate) as FIRST_ORDER,\n",
    "first_value(SalesOrderNumber) over (partition by year(OrderDate) order by OrderDate rows between unbounded preceding and current row) as FIRST_ORDER_FRAME,\n",
    "last_value(SalesOrderNumber) over (partition by year(OrderDate) order by OrderDate) as LAST_ORDER,\n",
    "last_value(SalesOrderNumber) over (partition by year(OrderDate) order by OrderDate rows between unbounded preceding and current row ) as LAST_ORDER_FRAME\n",
    "from Sales             \n",
    "                \n",
    "                \"\"\")\n",
    "res.show()"
   ]
  },
  {
   "cell_type": "code",
   "execution_count": 8,
   "metadata": {},
   "outputs": [
    {
     "name": "stdout",
     "output_type": "stream",
     "text": [
      "+----------------+---------------+\n",
      "|First_SalesOrder|Last_SalesOrder|\n",
      "+----------------+---------------+\n",
      "|         SO71858|        SO71793|\n",
      "+----------------+---------------+\n",
      "\n"
     ]
    }
   ],
   "source": [
    "\n",
    "\n",
    "# Get the first and last SalesOrderNumber using Window functions\n",
    "res2 = spark.sql( \"\"\"\n",
    "SELECT \n",
    "    FIRST_VALUE(SalesOrderNumber) OVER (ORDER BY OrderDate ASC) AS First_SalesOrder,\n",
    "    LAST_VALUE(SalesOrderNumber) OVER (ORDER BY OrderDate ASC ROWS BETWEEN UNBOUNDED PRECEDING AND UNBOUNDED FOLLOWING) AS Last_SalesOrder\n",
    "FROM Sales\n",
    "LIMIT 1\n",
    "\"\"\")\n",
    "\n",
    "res2.show()\n",
    "\n"
   ]
  },
  {
   "cell_type": "markdown",
   "metadata": {},
   "source": [
    "# PYSPARK"
   ]
  },
  {
   "cell_type": "code",
   "execution_count": 10,
   "metadata": {},
   "outputs": [
    {
     "name": "stdout",
     "output_type": "stream",
     "text": [
      "+----------------+----------+----------+----------+---------+\n",
      "|SalesOrderNumber| OrderDate|  TotalDue|FirstOrder|LastOrder|\n",
      "+----------------+----------+----------+----------+---------+\n",
      "|         SO71858|2008-01-04|15275.1977|   SO71858|  SO71858|\n",
      "|         SO71895|2008-03-22|  272.6468|   SO71858|  SO71895|\n",
      "|         SO71897|2008-04-10|14017.9083|   SO71858|  SO71897|\n",
      "|         SO71920|2008-05-15| 3293.7761|   SO71858|  SO71920|\n",
      "|         SO71774|2008-06-25|   972.785|   SO71858|  SO71774|\n",
      "|         SO71786|2008-07-03|   87.0851|   SO71858|  SO71786|\n",
      "|         SO71782|2008-08-13|42452.6519|   SO71858|  SO71782|\n",
      "|         SO71783|2008-08-16|43962.7901|   SO71858|  SO71783|\n",
      "|         SO71793|2008-09-21|32663.5609|   SO71858|  SO71793|\n",
      "|         SO71796|2008-10-11|63686.2708|   SO71858|  SO71796|\n",
      "|         SO71797|2008-10-25|86222.8072|   SO71858|  SO71797|\n",
      "|         SO81758|2009-01-14|18275.4871|   SO71858|  SO81758|\n",
      "|         SO81895|2009-03-30|  3172.468|   SO71858|  SO81895|\n",
      "|         SO81897|2009-04-12|16027.1903|   SO71858|  SO81897|\n",
      "|         SO81920|2009-05-20| 4529.8761|   SO71858|  SO81920|\n",
      "|         SO91774|2009-06-05| 19872.785|   SO71858|  SO91774|\n",
      "|         SO91786|2009-07-13| 5687.0901|   SO71858|  SO91786|\n",
      "|         SO91782|2009-08-19|30242.6519|   SO71858|  SO91782|\n",
      "|         SO91783|2009-09-25|50962.7901|   SO71858|  SO91783|\n",
      "|         SO91793|2009-10-18|41263.7609|   SO71858|  SO91793|\n",
      "+----------------+----------+----------+----------+---------+\n",
      "only showing top 20 rows\n",
      "\n"
     ]
    }
   ],
   "source": [
    "from pyspark.sql.window import Window\n",
    "from pyspark.sql.functions import col, first, last\n",
    "windowSpec = Window.orderBy(\"OrderDate\")\n",
    "\n",
    "df1 = df.withColumn(\"FirstOrder\", first(\"SalesOrderNumber\").over(windowSpec))\\\n",
    "        .withColumn(\"LastOrder\", last(\"SalesOrderNumber\").over(windowSpec)) \\\n",
    "        #.select(\"FirstOrder\", \"LastOrder\").distinct()\n",
    "df1.show()"
   ]
  },
  {
   "cell_type": "code",
   "execution_count": null,
   "metadata": {},
   "outputs": [],
   "source": []
  }
 ],
 "metadata": {
  "kernelspec": {
   "display_name": "Python 3",
   "language": "python",
   "name": "python3"
  },
  "language_info": {
   "codemirror_mode": {
    "name": "ipython",
    "version": 3
   },
   "file_extension": ".py",
   "mimetype": "text/x-python",
   "name": "python",
   "nbconvert_exporter": "python",
   "pygments_lexer": "ipython3",
   "version": "3.11.8"
  }
 },
 "nbformat": 4,
 "nbformat_minor": 2
}
