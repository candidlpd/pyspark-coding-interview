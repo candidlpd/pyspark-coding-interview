{
  "nbformat": 4,
  "nbformat_minor": 0,
  "metadata": {
    "colab": {
      "provenance": [],
      "authorship_tag": "ABX9TyOoEpf24lUYvQ5BSUvqCjcr",
      "include_colab_link": true
    },
    "kernelspec": {
      "name": "python3",
      "display_name": "Python 3"
    },
    "language_info": {
      "name": "python"
    }
  },
  "cells": [
    {
      "cell_type": "markdown",
      "metadata": {
        "id": "view-in-github",
        "colab_type": "text"
      },
      "source": [
        "<a href=\"https://colab.research.google.com/github/candidlpd/pyspark-coding-interview/blob/master/How_to_check_for_Alphanumeric_values_Like_Wildcards.ipynb\" target=\"_parent\"><img src=\"https://colab.research.google.com/assets/colab-badge.svg\" alt=\"Open In Colab\"/></a>"
      ]
    },
    {
      "cell_type": "code",
      "execution_count": 1,
      "metadata": {
        "colab": {
          "base_uri": "https://localhost:8080/"
        },
        "id": "4Tn8rc7WDbZ1",
        "outputId": "1582d940-9f90-4f46-a41e-ded7e4e0297d"
      },
      "outputs": [
        {
          "output_type": "stream",
          "name": "stdout",
          "text": [
            "Collecting pyspark\n",
            "  Downloading pyspark-3.5.3.tar.gz (317.3 MB)\n",
            "\u001b[2K     \u001b[90m━━━━━━━━━━━━━━━━━━━━━━━━━━━━━━━━━━━━━━━━\u001b[0m \u001b[32m317.3/317.3 MB\u001b[0m \u001b[31m3.7 MB/s\u001b[0m eta \u001b[36m0:00:00\u001b[0m\n",
            "\u001b[?25h  Preparing metadata (setup.py) ... \u001b[?25l\u001b[?25hdone\n",
            "Requirement already satisfied: py4j==0.10.9.7 in /usr/local/lib/python3.10/dist-packages (from pyspark) (0.10.9.7)\n",
            "Building wheels for collected packages: pyspark\n",
            "  Building wheel for pyspark (setup.py) ... \u001b[?25l\u001b[?25hdone\n",
            "  Created wheel for pyspark: filename=pyspark-3.5.3-py2.py3-none-any.whl size=317840625 sha256=514bff0fb38c5afa22358f4c543ba3d447b876cd901e3f66587cf5bfab6059bf\n",
            "  Stored in directory: /root/.cache/pip/wheels/1b/3a/92/28b93e2fbfdbb07509ca4d6f50c5e407f48dce4ddbda69a4ab\n",
            "Successfully built pyspark\n",
            "Installing collected packages: pyspark\n",
            "Successfully installed pyspark-3.5.3\n"
          ]
        }
      ],
      "source": [
        "!pip install pyspark"
      ]
    },
    {
      "cell_type": "code",
      "source": [
        "from pyspark.sql import SparkSession\n",
        "from pyspark.sql import functions as F\n",
        "from pyspark.sql.types import DateType\n",
        "\n",
        "# Initialize Spark session\n",
        "spark = SparkSession.builder.master(\"local\").appName(\"test\").getOrCreate()"
      ],
      "metadata": {
        "id": "S4RT0m1KDb3x"
      },
      "execution_count": 2,
      "outputs": []
    },
    {
      "cell_type": "code",
      "source": [
        "# Create a DataFrame with alphanumeric values\n",
        "from pyspark.sql import SparkSession\n",
        "from pyspark.sql.types import StructType, StructField, StringType\n",
        "\n",
        "# Initialize the Spark session\n",
        "spark = SparkSession.builder.appName(\"AlphanumericExample\").getOrCreate()\n",
        "\n",
        "# Define the schema\n",
        "schema = StructType([\n",
        "    StructField(\"ID\", StringType(), True),\n",
        "    StructField(\"Description\", StringType(), True)\n",
        "])\n",
        "\n",
        "# Sample data with alphanumeric values\n",
        "data = [\n",
        "    (\"1\", \"Product123\"),\n",
        "    (\"2\", \"Service#456\"),\n",
        "    (\"3\", \"Item!789\"),\n",
        "    (\"4\", \"AlphaTest999\"),\n",
        "    (\"5\", \"Beta_Test_ABC\"),\n",
        "    (\"6\", \"Gamma-321\"),\n",
        "    (\"7\", \"NonAlphanumeric\"),\n",
        "    (\"8\", \"2024_Product\"),\n",
        "    (\"9\", \"Mixed_Values#123\")\n",
        "]\n",
        "\n",
        "# Create the DataFrame\n",
        "df = spark.createDataFrame(data, schema=schema)\n",
        "\n",
        "# Register the DataFrame as a temporary SQL view\n",
        "df.createOrReplaceTempView(\"AlphanumericTable\")\n",
        "\n",
        "# Show the DataFrame\n",
        "df.show()\n"
      ],
      "metadata": {
        "colab": {
          "base_uri": "https://localhost:8080/"
        },
        "id": "cHu68YO7Db6Q",
        "outputId": "d8746891-9a21-4e02-915f-cfad407e9e8c"
      },
      "execution_count": 3,
      "outputs": [
        {
          "output_type": "stream",
          "name": "stdout",
          "text": [
            "+---+----------------+\n",
            "| ID|     Description|\n",
            "+---+----------------+\n",
            "|  1|      Product123|\n",
            "|  2|     Service#456|\n",
            "|  3|        Item!789|\n",
            "|  4|    AlphaTest999|\n",
            "|  5|   Beta_Test_ABC|\n",
            "|  6|       Gamma-321|\n",
            "|  7| NonAlphanumeric|\n",
            "|  8|    2024_Product|\n",
            "|  9|Mixed_Values#123|\n",
            "+---+----------------+\n",
            "\n"
          ]
        }
      ]
    },
    {
      "cell_type": "markdown",
      "source": [
        " Query to Find Rows with Alphanumeric Values Using LIKE"
      ],
      "metadata": {
        "id": "_wrMIfpYD3Xg"
      }
    },
    {
      "cell_type": "code",
      "source": [
        "spark.sql(\"\"\" select * from AlphanumericTable \"\"\").show()"
      ],
      "metadata": {
        "colab": {
          "base_uri": "https://localhost:8080/"
        },
        "id": "4VJ9i8BUEl7M",
        "outputId": "b9ee9db3-7677-4a84-c045-0b3a59ccf5b9"
      },
      "execution_count": 5,
      "outputs": [
        {
          "output_type": "stream",
          "name": "stdout",
          "text": [
            "+---+----------------+\n",
            "| ID|     Description|\n",
            "+---+----------------+\n",
            "|  1|      Product123|\n",
            "|  2|     Service#456|\n",
            "|  3|        Item!789|\n",
            "|  4|    AlphaTest999|\n",
            "|  5|   Beta_Test_ABC|\n",
            "|  6|       Gamma-321|\n",
            "|  7| NonAlphanumeric|\n",
            "|  8|    2024_Product|\n",
            "|  9|Mixed_Values#123|\n",
            "+---+----------------+\n",
            "\n"
          ]
        }
      ]
    },
    {
      "cell_type": "code",
      "source": [
        "spark.sql(\"\"\"\n",
        "select * FROM AlphanumericTable WHERE Description LIKE '%[a-zA-Z]%' and Description LIKE '%[0-9]%'\n",
        "\n",
        "\n",
        "\n",
        "\"\"\").show()"
      ],
      "metadata": {
        "colab": {
          "base_uri": "https://localhost:8080/"
        },
        "id": "u81SiYa5D4xw",
        "outputId": "73a2706a-79fe-4d73-ba48-98207e6678dd"
      },
      "execution_count": 4,
      "outputs": [
        {
          "output_type": "stream",
          "name": "stdout",
          "text": [
            "+---+-----------+\n",
            "| ID|Description|\n",
            "+---+-----------+\n",
            "+---+-----------+\n",
            "\n"
          ]
        }
      ]
    },
    {
      "cell_type": "code",
      "source": [
        "spark.sql(\"\"\"\n",
        "select * FROM AlphanumericTable WHERE Description LIKE 'Product%'\n",
        "\n",
        "\n",
        "\n",
        "\"\"\").show()"
      ],
      "metadata": {
        "colab": {
          "base_uri": "https://localhost:8080/"
        },
        "id": "3mt758G7Gcbt",
        "outputId": "7513099d-dbb8-45b8-8566-3ff2c58bc008"
      },
      "execution_count": 8,
      "outputs": [
        {
          "output_type": "stream",
          "name": "stdout",
          "text": [
            "+---+-----------+\n",
            "| ID|Description|\n",
            "+---+-----------+\n",
            "|  1| Product123|\n",
            "+---+-----------+\n",
            "\n"
          ]
        }
      ]
    },
    {
      "cell_type": "code",
      "source": [
        "# Query to find descriptions with special characters\n",
        "spark.sql(\"\"\"\n",
        "SELECT *\n",
        "FROM AlphanumericTable\n",
        "WHERE Description LIKE '%#%' OR Description LIKE '%!%' OR Description LIKE '%_%'\n",
        "\"\"\").show()\n"
      ],
      "metadata": {
        "colab": {
          "base_uri": "https://localhost:8080/"
        },
        "id": "sNQyzMjbGvLa",
        "outputId": "a9449166-8037-4e35-e88a-d42cf9f65727"
      },
      "execution_count": 9,
      "outputs": [
        {
          "output_type": "stream",
          "name": "stdout",
          "text": [
            "+---+----------------+\n",
            "| ID|     Description|\n",
            "+---+----------------+\n",
            "|  1|      Product123|\n",
            "|  2|     Service#456|\n",
            "|  3|        Item!789|\n",
            "|  4|    AlphaTest999|\n",
            "|  5|   Beta_Test_ABC|\n",
            "|  6|       Gamma-321|\n",
            "|  7| NonAlphanumeric|\n",
            "|  8|    2024_Product|\n",
            "|  9|Mixed_Values#123|\n",
            "+---+----------------+\n",
            "\n"
          ]
        }
      ]
    },
    {
      "cell_type": "markdown",
      "source": [
        "**Using PySpark Functions to Check Alphanumeric Values**"
      ],
      "metadata": {
        "id": "HzhOYpy-HeXd"
      }
    },
    {
      "cell_type": "code",
      "source": [
        "from pyspark.sql.functions import col\n",
        "\n",
        "# Check for both letters and numbers using rlike (regular expression)\n",
        "df_with_alphanumeric = df.filter(\n",
        "    col(\"Description\").rlike(\".*[A-Za-z].*\") & col(\"Description\").rlike(\".*[0-9].*\")\n",
        ")\n",
        "\n",
        "# Show the results\n",
        "df_with_alphanumeric.show()\n"
      ],
      "metadata": {
        "colab": {
          "base_uri": "https://localhost:8080/"
        },
        "id": "I1AvhLrFHjH4",
        "outputId": "6ea4c7b4-b043-4af7-cfff-8517693361ca"
      },
      "execution_count": 10,
      "outputs": [
        {
          "output_type": "stream",
          "name": "stdout",
          "text": [
            "+---+----------------+\n",
            "| ID|     Description|\n",
            "+---+----------------+\n",
            "|  1|      Product123|\n",
            "|  2|     Service#456|\n",
            "|  3|        Item!789|\n",
            "|  4|    AlphaTest999|\n",
            "|  6|       Gamma-321|\n",
            "|  8|    2024_Product|\n",
            "|  9|Mixed_Values#123|\n",
            "+---+----------------+\n",
            "\n"
          ]
        }
      ]
    },
    {
      "cell_type": "code",
      "source": [
        "# Filter rows where the description starts with \"Product\"\n",
        "df_with_product = df.filter(\n",
        "    col(\"Description\").rlike(\"^Product.*\")\n",
        ")\n",
        "\n",
        "# Show the results\n",
        "df_with_product.show()\n"
      ],
      "metadata": {
        "colab": {
          "base_uri": "https://localhost:8080/"
        },
        "id": "sZ9Ggz03HtDI",
        "outputId": "cd76c9ce-f974-466b-eb68-a9aa007f66aa"
      },
      "execution_count": 11,
      "outputs": [
        {
          "output_type": "stream",
          "name": "stdout",
          "text": [
            "+---+-----------+\n",
            "| ID|Description|\n",
            "+---+-----------+\n",
            "|  1| Product123|\n",
            "+---+-----------+\n",
            "\n"
          ]
        }
      ]
    },
    {
      "cell_type": "code",
      "source": [
        "# Check for rows with special characters like #, !, or _\n",
        "df_with_special_chars = df.filter(\n",
        "    col(\"Description\").rlike(\".*[#_!].*\")\n",
        ")\n",
        "\n",
        "# Show the results\n",
        "df_with_special_chars.show()\n"
      ],
      "metadata": {
        "colab": {
          "base_uri": "https://localhost:8080/"
        },
        "id": "5uH3ZaFVHvEh",
        "outputId": "9daa6986-04d7-4fcf-e768-89be5a05c04f"
      },
      "execution_count": 12,
      "outputs": [
        {
          "output_type": "stream",
          "name": "stdout",
          "text": [
            "+---+----------------+\n",
            "| ID|     Description|\n",
            "+---+----------------+\n",
            "|  2|     Service#456|\n",
            "|  3|        Item!789|\n",
            "|  5|   Beta_Test_ABC|\n",
            "|  8|    2024_Product|\n",
            "|  9|Mixed_Values#123|\n",
            "+---+----------------+\n",
            "\n"
          ]
        }
      ]
    }
  ]
}