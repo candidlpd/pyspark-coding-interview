{
 "cells": [
  {
   "cell_type": "code",
   "execution_count": 2,
   "metadata": {},
   "outputs": [
    {
     "data": {
      "text/plain": [
       "'H:\\\\pyspark-coding-interview'"
      ]
     },
     "execution_count": 2,
     "metadata": {},
     "output_type": "execute_result"
    }
   ],
   "source": [
    "import os\n",
    "os.getcwd()\n",
    "os.chdir(\"H:\\pyspark-coding-interview\")\n",
    "os.getcwd()"
   ]
  },
  {
   "cell_type": "code",
   "execution_count": 1,
   "metadata": {},
   "outputs": [
    {
     "name": "stdout",
     "output_type": "stream",
     "text": [
      "[('spark.driver.extraJavaOptions', '-Djava.net.preferIPv6Addresses=false -XX:+IgnoreUnrecognizedVMOptions --add-opens=java.base/java.lang=ALL-UNNAMED --add-opens=java.base/java.lang.invoke=ALL-UNNAMED --add-opens=java.base/java.lang.reflect=ALL-UNNAMED --add-opens=java.base/java.io=ALL-UNNAMED --add-opens=java.base/java.net=ALL-UNNAMED --add-opens=java.base/java.nio=ALL-UNNAMED --add-opens=java.base/java.util=ALL-UNNAMED --add-opens=java.base/java.util.concurrent=ALL-UNNAMED --add-opens=java.base/java.util.concurrent.atomic=ALL-UNNAMED --add-opens=java.base/jdk.internal.ref=ALL-UNNAMED --add-opens=java.base/sun.nio.ch=ALL-UNNAMED --add-opens=java.base/sun.nio.cs=ALL-UNNAMED --add-opens=java.base/sun.security.action=ALL-UNNAMED --add-opens=java.base/sun.util.calendar=ALL-UNNAMED --add-opens=java.security.jgss/sun.security.krb5=ALL-UNNAMED -Djdk.reflect.useDirectMethodHandle=false'), ('spark.app.submitTime', '1729292465803'), ('spark.executor.id', 'driver'), ('spark.driver.host', 'localhost'), ('spark.app.startTime', '1729292465966'), ('spark.executor.cores', '4'), ('spark.driver.port', '49320'), ('spark.serializer', 'org.apache.spark.serializer.KryoSerializer'), ('spark.rdd.compress', 'True'), ('spark.executor.extraJavaOptions', '-Djava.net.preferIPv6Addresses=false -XX:+IgnoreUnrecognizedVMOptions --add-opens=java.base/java.lang=ALL-UNNAMED --add-opens=java.base/java.lang.invoke=ALL-UNNAMED --add-opens=java.base/java.lang.reflect=ALL-UNNAMED --add-opens=java.base/java.io=ALL-UNNAMED --add-opens=java.base/java.net=ALL-UNNAMED --add-opens=java.base/java.nio=ALL-UNNAMED --add-opens=java.base/java.util=ALL-UNNAMED --add-opens=java.base/java.util.concurrent=ALL-UNNAMED --add-opens=java.base/java.util.concurrent.atomic=ALL-UNNAMED --add-opens=java.base/jdk.internal.ref=ALL-UNNAMED --add-opens=java.base/sun.nio.ch=ALL-UNNAMED --add-opens=java.base/sun.nio.cs=ALL-UNNAMED --add-opens=java.base/sun.security.action=ALL-UNNAMED --add-opens=java.base/sun.util.calendar=ALL-UNNAMED --add-opens=java.security.jgss/sun.security.krb5=ALL-UNNAMED -Djdk.reflect.useDirectMethodHandle=false'), ('spark.driver.memory', '8g'), ('spark.serializer.objectStreamReset', '100'), ('spark.sql.shuffle.partitions', '28'), ('spark.master', 'local[*]'), ('spark.executor.memory', '8g'), ('spark.submit.pyFiles', ''), ('spark.app.name', 'OptimizedLocalSpark'), ('spark.submit.deployMode', 'client'), ('spark.app.id', 'local-1729292466928'), ('spark.ui.showConsoleProgress', 'true'), ('spark.cores.max', '12')]\n"
     ]
    }
   ],
   "source": [
    "from pyspark.sql import SparkSession\n",
    "\n",
    "# Create a Spark session with optimized settings\n",
    "spark = (\n",
    "    SparkSession.builder \n",
    "    .appName(\"OptimizedLocalSpark\") \n",
    "    .config(\"spark.driver.memory\", \"8g\")        \n",
    "    .config(\"spark.executor.memory\", \"8g\")    \n",
    "    .config(\"spark.executor.cores\", \"4\")       \n",
    "    .config(\"spark.cores.max\", \"12\")           \n",
    "    .config(\"spark.sql.shuffle.partitions\", \"28\")  \n",
    "    .config(\"spark.serializer\", \"org.apache.spark.serializer.KryoSerializer\") \n",
    "    .getOrCreate()\n",
    ")\n",
    "sc = spark.sparkContext\n",
    "# Check Configuration\n",
    "print(sc.getConf().getAll())"
   ]
  },
  {
   "cell_type": "code",
   "execution_count": 3,
   "metadata": {},
   "outputs": [
    {
     "name": "stdout",
     "output_type": "stream",
     "text": [
      "+----------+--------+-----+\n",
      "|      date|category|sales|\n",
      "+----------+--------+-----+\n",
      "|2023-10-01|       A|  100|\n",
      "|2023-10-02|       A|  200|\n",
      "|2023-10-03|       A|  300|\n",
      "|2023-10-01|       B|  150|\n",
      "|2023-10-02|       B|   50|\n",
      "|2023-10-03|       B|  100|\n",
      "|2023-10-01|       C|  200|\n",
      "|2023-10-02|       C|  300|\n",
      "|2023-10-03|       C|  400|\n",
      "+----------+--------+-----+\n",
      "\n"
     ]
    }
   ],
   "source": [
    "\n"
   ]
  },
  {
   "cell_type": "code",
   "execution_count": 6,
   "metadata": {},
   "outputs": [
    {
     "name": "stdout",
     "output_type": "stream",
     "text": [
      "+---------+----------+--------------------+------------+------+--------------+-------+\n",
      "|FirstName|  LastName|        EmailAddress|       Phone|Gender|DepartmentName| Salary|\n",
      "+---------+----------+--------------------+------------+------+--------------+-------+\n",
      "|      Guy|   Gilbert|guy1@adventure-wo...|320-555-0195|     M|    Production| 400000|\n",
      "|    Kevin|     Brown|kevin@adventure-w...|150-555-0189|     M|     Marketing| 700000|\n",
      "|  Roberto|Tamburello|roberto@adventure...|212-555-0187|     M|   Engineering| 800000|\n",
      "|    Renee|     Lewis|renee.lewis@adven...|456-839-7190|     F|     Marketing| 700000|\n",
      "|    Renee|    Thomas|renee.thomas@adve...|467-999-1000|     F|    Production| 600000|\n",
      "|  Thierry|    D'Hers|thierry@adventure...|168-555-0183|     M|   Tool Design| 800000|\n",
      "|      Guy|   Gilbert|guy@adventure-wor...|        null|  null|          null|   null|\n",
      "|   JoLynn|    Dobney|jolynn@adventure-...|903-555-0145|     F|    Production| 100000|\n",
      "|     Ruth|Elberstock|ruth@adventure-wo...|145-555-0130|     F|    Production| 300000|\n",
      "|     Gail|  Erickson|gail@adventure-wo...|849-555-0139|     F|   Engineering| 300000|\n",
      "|    Barry|   Johnson|barry@adventure-w...|206-555-0180|     M|    Production| 900000|\n",
      "|    Alice|     Smith|alice@adventure-w...|321-555-0145|     F|            HR| 500000|\n",
      "|     John|       Doe|john@adventure-wo...|312-555-0199|     M|            IT| 450000|\n",
      "|    Emily|     Davis|emily@adventure-w...|908-555-0101|     F|         Sales| 550000|\n",
      "|    James|      Bond|james@adventure-w...|007-555-0707|     M|           Spy|1000000|\n",
      "|   Olivia|     Jones|olivia@adventure-...|444-555-0198|     F|       Finance| 700000|\n",
      "|   Sophia|    Miller|sophia@adventure-...|555-555-0123|     F|     Marketing| 650000|\n",
      "|     Liam|    Wilson|liam@adventure-wo...|666-555-0188|     M|   Engineering| 800000|\n",
      "|     Noah|     Moore|noah@adventure-wo...|777-555-0155|     M|    Production| 750000|\n",
      "|      Mia|    Taylor|mia@adventure-wor...|888-555-0190|     F|    Production| 620000|\n",
      "+---------+----------+--------------------+------------+------+--------------+-------+\n",
      "\n"
     ]
    }
   ],
   "source": [
    "\n",
    "\n",
    "# Sample data for 20 records based on the visible columns from the image\n",
    "data = [\n",
    "    (\"Guy\", \"Gilbert\", \"guy1@adventure-works.com\", \"320-555-0195\", \"M\", \"Production\", 400000),\n",
    "    (\"Kevin\", \"Brown\", \"kevin@adventure-works.com\", \"150-555-0189\", \"M\", \"Marketing\", 700000),\n",
    "    (\"Roberto\", \"Tamburello\", \"roberto@adventure-works.com\", \"212-555-0187\", \"M\", \"Engineering\", 800000),\n",
    "    (\"Renee\", \"Lewis\", \"renee.lewis@adventure-works.com\", \"456-839-7190\", \"F\", \"Marketing\", 700000),\n",
    "    (\"Renee\", \"Thomas\", \"renee.thomas@adventure-works.com\", \"467-999-1000\", \"F\", \"Production\", 600000),\n",
    "    (\"Thierry\", \"D'Hers\", \"thierry@adventure-works.com\", \"168-555-0183\", \"M\", \"Tool Design\", 800000),\n",
    "    (\"Guy\", \"Gilbert\", \"guy@adventure-works.com\", None, None, None, None),\n",
    "    (\"JoLynn\", \"Dobney\", \"jolynn@adventure-works.com\", \"903-555-0145\", \"F\", \"Production\", 100000),\n",
    "    (\"Ruth\", \"Elberstock\", \"ruth@adventure-works.com\", \"145-555-0130\", \"F\", \"Production\", 300000),\n",
    "    (\"Gail\", \"Erickson\", \"gail@adventure-works.com\", \"849-555-0139\", \"F\", \"Engineering\", 300000),\n",
    "    (\"Barry\", \"Johnson\", \"barry@adventure-works.com\", \"206-555-0180\", \"M\", \"Production\", 900000),\n",
    "    (\"Alice\", \"Smith\", \"alice@adventure-works.com\", \"321-555-0145\", \"F\", \"HR\", 500000),\n",
    "    (\"John\", \"Doe\", \"john@adventure-works.com\", \"312-555-0199\", \"M\", \"IT\", 450000),\n",
    "    (\"Emily\", \"Davis\", \"emily@adventure-works.com\", \"908-555-0101\", \"F\", \"Sales\", 550000),\n",
    "    (\"James\", \"Bond\", \"james@adventure-works.com\", \"007-555-0707\", \"M\", \"Spy\", 1000000),\n",
    "    (\"Olivia\", \"Jones\", \"olivia@adventure-works.com\", \"444-555-0198\", \"F\", \"Finance\", 700000),\n",
    "    (\"Sophia\", \"Miller\", \"sophia@adventure-works.com\", \"555-555-0123\", \"F\", \"Marketing\", 650000),\n",
    "    (\"Liam\", \"Wilson\", \"liam@adventure-works.com\", \"666-555-0188\", \"M\", \"Engineering\", 800000),\n",
    "    (\"Noah\", \"Moore\", \"noah@adventure-works.com\", \"777-555-0155\", \"M\", \"Production\", 750000),\n",
    "    (\"Mia\", \"Taylor\", \"mia@adventure-works.com\", \"888-555-0190\", \"F\", \"Production\", 620000)\n",
    "]\n",
    "\n",
    "# Define column names\n",
    "columns = [\"FirstName\", \"LastName\", \"EmailAddress\", \"Phone\", \"Gender\", \"DepartmentName\", \"Salary\"]\n",
    "\n",
    "# Create DataFrame\n",
    "df = spark.createDataFrame(data, columns)\n",
    "df.cache()\n",
    "# Show the DataFrame\n",
    "df.createOrReplaceTempView(\"Employee\")\n",
    "df.show()\n"
   ]
  },
  {
   "cell_type": "markdown",
   "metadata": {},
   "source": [
    "# Using Spark SQL\n"
   ]
  },
  {
   "cell_type": "code",
   "execution_count": 19,
   "metadata": {},
   "outputs": [
    {
     "name": "stdout",
     "output_type": "stream",
     "text": [
      "+--------------+---------+----------+-------+-------------+-------------------------------------+\n",
      "|DepartmentName|FirstName|  LastName| Salary|running_total|total_running_sum_over_entire_dataset|\n",
      "+--------------+---------+----------+-------+-------------+-------------------------------------+\n",
      "|          null|      Guy|   Gilbert|   null|         null|                             11620000|\n",
      "|            IT|     John|       Doe| 450000|       450000|                             10520000|\n",
      "|            HR|    Alice|     Smith| 500000|       500000|                             10070000|\n",
      "|         Sales|    Emily|     Davis| 550000|       550000|                              9570000|\n",
      "|       Finance|   Olivia|     Jones| 700000|       700000|                              7150000|\n",
      "|     Marketing|    Kevin|     Brown| 700000|       700000|                              5750000|\n",
      "|   Engineering|  Roberto|Tamburello| 800000|       800000|                              2700000|\n",
      "|   Tool Design|  Thierry|    D'Hers| 800000|       800000|                              3500000|\n",
      "|    Production|    Barry|   Johnson| 900000|       900000|                              1900000|\n",
      "|           Spy|    James|      Bond|1000000|      1000000|                              1000000|\n",
      "|     Marketing|    Renee|     Lewis| 700000|      1400000|                              6450000|\n",
      "|   Engineering|     Liam|    Wilson| 800000|      1600000|                              4300000|\n",
      "|    Production|     Noah|     Moore| 750000|      1650000|                              5050000|\n",
      "|   Engineering|     Gail|  Erickson| 300000|      1900000|                             11520000|\n",
      "|     Marketing|   Sophia|    Miller| 650000|      2050000|                              7800000|\n",
      "|    Production|      Mia|    Taylor| 620000|      2270000|                              8420000|\n",
      "|    Production|    Renee|    Thomas| 600000|      2870000|                              9020000|\n",
      "|    Production|      Guy|   Gilbert| 400000|      3270000|                             10920000|\n",
      "|    Production|     Ruth|Elberstock| 300000|      3570000|                             11220000|\n",
      "|    Production|   JoLynn|    Dobney| 100000|      3670000|                             11620000|\n",
      "+--------------+---------+----------+-------+-------------+-------------------------------------+\n",
      "\n"
     ]
    }
   ],
   "source": [
    "res = spark.sql(\"\"\"\n",
    "select \n",
    "DepartmentName,\n",
    "FirstName,\n",
    "LastName,\n",
    "Salary, \n",
    "SUM(Salary) OVER (Partition by DepartmentName ORDER BY salary desc rows between unbounded preceding and current row  ) as running_total,\n",
    "SUM(Salary) OVER (ORDER BY Salary DESC ROWS BETWEEN UNBOUNDED PRECEDING AND CURRENT ROW) AS total_running_sum_over_entire_dataset\n",
    "from Employee\n",
    "order by running_total\n",
    "\"\"\")\n",
    "res.show()"
   ]
  },
  {
   "cell_type": "code",
   "execution_count": 11,
   "metadata": {},
   "outputs": [
    {
     "name": "stdout",
     "output_type": "stream",
     "text": [
      "+---------+----------+--------------+-------+--------------+\n",
      "|FirstName|  LastName|DepartmentName| Salary|cumulative_sum|\n",
      "+---------+----------+--------------+-------+--------------+\n",
      "|    James|      Bond|           Spy|1000000|      11620000|\n",
      "|    Barry|   Johnson|    Production| 900000|      10620000|\n",
      "|  Roberto|Tamburello|   Engineering| 800000|       9720000|\n",
      "|  Thierry|    D'Hers|   Tool Design| 800000|       9720000|\n",
      "|     Liam|    Wilson|   Engineering| 800000|       9720000|\n",
      "|     Noah|     Moore|    Production| 750000|       7320000|\n",
      "|    Kevin|     Brown|     Marketing| 700000|       6570000|\n",
      "|    Renee|     Lewis|     Marketing| 700000|       6570000|\n",
      "|   Olivia|     Jones|       Finance| 700000|       6570000|\n",
      "|   Sophia|    Miller|     Marketing| 650000|       4470000|\n",
      "|      Mia|    Taylor|    Production| 620000|       3820000|\n",
      "|    Renee|    Thomas|    Production| 600000|       3200000|\n",
      "|    Emily|     Davis|         Sales| 550000|       2600000|\n",
      "|    Alice|     Smith|            HR| 500000|       2050000|\n",
      "|     John|       Doe|            IT| 450000|       1550000|\n",
      "|      Guy|   Gilbert|    Production| 400000|       1100000|\n",
      "|     Ruth|Elberstock|    Production| 300000|        700000|\n",
      "|     Gail|  Erickson|   Engineering| 300000|        700000|\n",
      "|   JoLynn|    Dobney|    Production| 100000|        100000|\n",
      "+---------+----------+--------------+-------+--------------+\n",
      "\n"
     ]
    }
   ],
   "source": [
    "result = spark.sql(\"\"\"\n",
    "    SELECT \n",
    "        e1.FirstName, \n",
    "        e1.LastName, \n",
    "        e1.DepartmentName, \n",
    "        e1.Salary,\n",
    "        SUM(e2.Salary) AS cumulative_sum\n",
    "    FROM employee e1\n",
    "    JOIN employee e2 ON e1.Salary >= e2.Salary\n",
    "    GROUP BY e1.FirstName, e1.LastName, e1.DepartmentName, e1.Salary\n",
    "    ORDER BY e1.Salary DESC\n",
    "\"\"\")\n",
    "\n",
    "result.show()"
   ]
  },
  {
   "cell_type": "markdown",
   "metadata": {},
   "source": [
    "# Using Pyspark"
   ]
  },
  {
   "cell_type": "code",
   "execution_count": 20,
   "metadata": {},
   "outputs": [
    {
     "name": "stdout",
     "output_type": "stream",
     "text": [
      "+---------+----------+--------------------+------------+------+--------------+-------+\n",
      "|FirstName|  LastName|        EmailAddress|       Phone|Gender|DepartmentName| Salary|\n",
      "+---------+----------+--------------------+------------+------+--------------+-------+\n",
      "|      Guy|   Gilbert|guy1@adventure-wo...|320-555-0195|     M|    Production| 400000|\n",
      "|    Kevin|     Brown|kevin@adventure-w...|150-555-0189|     M|     Marketing| 700000|\n",
      "|  Roberto|Tamburello|roberto@adventure...|212-555-0187|     M|   Engineering| 800000|\n",
      "|    Renee|     Lewis|renee.lewis@adven...|456-839-7190|     F|     Marketing| 700000|\n",
      "|    Renee|    Thomas|renee.thomas@adve...|467-999-1000|     F|    Production| 600000|\n",
      "|  Thierry|    D'Hers|thierry@adventure...|168-555-0183|     M|   Tool Design| 800000|\n",
      "|      Guy|   Gilbert|guy@adventure-wor...|        null|  null|          null|   null|\n",
      "|   JoLynn|    Dobney|jolynn@adventure-...|903-555-0145|     F|    Production| 100000|\n",
      "|     Ruth|Elberstock|ruth@adventure-wo...|145-555-0130|     F|    Production| 300000|\n",
      "|     Gail|  Erickson|gail@adventure-wo...|849-555-0139|     F|   Engineering| 300000|\n",
      "|    Barry|   Johnson|barry@adventure-w...|206-555-0180|     M|    Production| 900000|\n",
      "|    Alice|     Smith|alice@adventure-w...|321-555-0145|     F|            HR| 500000|\n",
      "|     John|       Doe|john@adventure-wo...|312-555-0199|     M|            IT| 450000|\n",
      "|    Emily|     Davis|emily@adventure-w...|908-555-0101|     F|         Sales| 550000|\n",
      "|    James|      Bond|james@adventure-w...|007-555-0707|     M|           Spy|1000000|\n",
      "|   Olivia|     Jones|olivia@adventure-...|444-555-0198|     F|       Finance| 700000|\n",
      "|   Sophia|    Miller|sophia@adventure-...|555-555-0123|     F|     Marketing| 650000|\n",
      "|     Liam|    Wilson|liam@adventure-wo...|666-555-0188|     M|   Engineering| 800000|\n",
      "|     Noah|     Moore|noah@adventure-wo...|777-555-0155|     M|    Production| 750000|\n",
      "|      Mia|    Taylor|mia@adventure-wor...|888-555-0190|     F|    Production| 620000|\n",
      "+---------+----------+--------------------+------------+------+--------------+-------+\n",
      "\n",
      "+---------+----------+--------------------+------------+------+--------------+-------+-------------------------------+---------------------------+\n",
      "|FirstName|  LastName|        EmailAddress|       Phone|Gender|DepartmentName| Salary|running_sum_over_entire_dataset|running_sum_over_department|\n",
      "+---------+----------+--------------------+------------+------+--------------+-------+-------------------------------+---------------------------+\n",
      "|      Guy|   Gilbert|guy@adventure-wor...|        null|  null|          null|   null|                           null|                       null|\n",
      "|     Gail|  Erickson|gail@adventure-wo...|849-555-0139|     F|   Engineering| 300000|                         700000|                     300000|\n",
      "|  Roberto|Tamburello|roberto@adventure...|212-555-0187|     M|   Engineering| 800000|                        8120000|                    1100000|\n",
      "|     Liam|    Wilson|liam@adventure-wo...|666-555-0188|     M|   Engineering| 800000|                        9720000|                    1900000|\n",
      "|   Olivia|     Jones|olivia@adventure-...|444-555-0198|     F|       Finance| 700000|                        6570000|                     700000|\n",
      "|    Alice|     Smith|alice@adventure-w...|321-555-0145|     F|            HR| 500000|                        2050000|                     500000|\n",
      "|     John|       Doe|john@adventure-wo...|312-555-0199|     M|            IT| 450000|                        1550000|                     450000|\n",
      "|   Sophia|    Miller|sophia@adventure-...|555-555-0123|     F|     Marketing| 650000|                        4470000|                     650000|\n",
      "|    Kevin|     Brown|kevin@adventure-w...|150-555-0189|     M|     Marketing| 700000|                        5170000|                    1350000|\n",
      "|    Renee|     Lewis|renee.lewis@adven...|456-839-7190|     F|     Marketing| 700000|                        5870000|                    2050000|\n",
      "|   JoLynn|    Dobney|jolynn@adventure-...|903-555-0145|     F|    Production| 100000|                         100000|                     100000|\n",
      "|     Ruth|Elberstock|ruth@adventure-wo...|145-555-0130|     F|    Production| 300000|                         400000|                     400000|\n",
      "|      Guy|   Gilbert|guy1@adventure-wo...|320-555-0195|     M|    Production| 400000|                        1100000|                     800000|\n",
      "|    Renee|    Thomas|renee.thomas@adve...|467-999-1000|     F|    Production| 600000|                        3200000|                    1400000|\n",
      "|      Mia|    Taylor|mia@adventure-wor...|888-555-0190|     F|    Production| 620000|                        3820000|                    2020000|\n",
      "|     Noah|     Moore|noah@adventure-wo...|777-555-0155|     M|    Production| 750000|                        7320000|                    2770000|\n",
      "|    Barry|   Johnson|barry@adventure-w...|206-555-0180|     M|    Production| 900000|                       10620000|                    3670000|\n",
      "|    Emily|     Davis|emily@adventure-w...|908-555-0101|     F|         Sales| 550000|                        2600000|                     550000|\n",
      "|    James|      Bond|james@adventure-w...|007-555-0707|     M|           Spy|1000000|                       11620000|                    1000000|\n",
      "|  Thierry|    D'Hers|thierry@adventure...|168-555-0183|     M|   Tool Design| 800000|                        8920000|                     800000|\n",
      "+---------+----------+--------------------+------------+------+--------------+-------+-------------------------------+---------------------------+\n",
      "\n"
     ]
    }
   ],
   "source": [
    "from pyspark.sql.window import Window\n",
    "from pyspark.sql.functions import sum, col\n",
    "\n",
    "df.show()\n",
    "\n",
    "windowSpec = Window.partitionBy(col(\"DepartmentName\")).orderBy(col(\"Salary\").asc()).rowsBetween(Window.unboundedPreceding, Window.currentRow)\n",
    "windowSpecAgg = Window.orderBy(col(\"Salary\").asc()).rowsBetween(Window.unboundedPreceding, Window.currentRow)\n",
    "df5 = df.withColumn(\"running_sum_over_entire_dataset\", sum(\"Salary\").over(windowSpecAgg)).withColumn(\"running_sum_over_department\", sum(\"Salary\").over(windowSpec))\n",
    "df5.show()\n",
    "\n",
    "\n"
   ]
  },
  {
   "cell_type": "code",
   "execution_count": null,
   "metadata": {},
   "outputs": [],
   "source": []
  }
 ],
 "metadata": {
  "kernelspec": {
   "display_name": "Python 3",
   "language": "python",
   "name": "python3"
  },
  "language_info": {
   "codemirror_mode": {
    "name": "ipython",
    "version": 3
   },
   "file_extension": ".py",
   "mimetype": "text/x-python",
   "name": "python",
   "nbconvert_exporter": "python",
   "pygments_lexer": "ipython3",
   "version": "3.11.8"
  }
 },
 "nbformat": 4,
 "nbformat_minor": 2
}
