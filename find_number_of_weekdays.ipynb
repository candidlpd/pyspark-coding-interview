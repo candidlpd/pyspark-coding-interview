{
  "nbformat": 4,
  "nbformat_minor": 0,
  "metadata": {
    "colab": {
      "provenance": [],
      "authorship_tag": "ABX9TyObUX3RU83IsU2AgnPqlqu6",
      "include_colab_link": true
    },
    "kernelspec": {
      "name": "python3",
      "display_name": "Python 3"
    },
    "language_info": {
      "name": "python"
    }
  },
  "cells": [
    {
      "cell_type": "markdown",
      "metadata": {
        "id": "view-in-github",
        "colab_type": "text"
      },
      "source": [
        "<a href=\"https://colab.research.google.com/github/candidlpd/pyspark-coding-interview/blob/master/find_number_of_weekdays.ipynb\" target=\"_parent\"><img src=\"https://colab.research.google.com/assets/colab-badge.svg\" alt=\"Open In Colab\"/></a>"
      ]
    },
    {
      "cell_type": "code",
      "execution_count": 3,
      "metadata": {
        "colab": {
          "base_uri": "https://localhost:8080/"
        },
        "id": "GCcWm6PNbHIn",
        "outputId": "5357a041-d22e-42f6-bc01-9aecd7dbff06"
      },
      "outputs": [
        {
          "output_type": "stream",
          "name": "stdout",
          "text": [
            "Collecting pyspark\n",
            "  Downloading pyspark-3.5.3.tar.gz (317.3 MB)\n",
            "\u001b[2K     \u001b[90m━━━━━━━━━━━━━━━━━━━━━━━━━━━━━━━━━━━━━━━━\u001b[0m \u001b[32m317.3/317.3 MB\u001b[0m \u001b[31m4.5 MB/s\u001b[0m eta \u001b[36m0:00:00\u001b[0m\n",
            "\u001b[?25h  Preparing metadata (setup.py) ... \u001b[?25l\u001b[?25hdone\n",
            "Requirement already satisfied: py4j==0.10.9.7 in /usr/local/lib/python3.10/dist-packages (from pyspark) (0.10.9.7)\n",
            "Building wheels for collected packages: pyspark\n",
            "  Building wheel for pyspark (setup.py) ... \u001b[?25l\u001b[?25hdone\n",
            "  Created wheel for pyspark: filename=pyspark-3.5.3-py2.py3-none-any.whl size=317840625 sha256=110270faa93e34b5fdce7fb69fb43ff64769b18affa8ff7be08f201059bb6851\n",
            "  Stored in directory: /root/.cache/pip/wheels/1b/3a/92/28b93e2fbfdbb07509ca4d6f50c5e407f48dce4ddbda69a4ab\n",
            "Successfully built pyspark\n",
            "Installing collected packages: pyspark\n",
            "Successfully installed pyspark-3.5.3\n"
          ]
        }
      ],
      "source": [
        "!pip install pyspark\n"
      ]
    },
    {
      "cell_type": "code",
      "source": [
        "from pyspark.sql import SparkSession\n",
        "from pyspark.sql import functions as F\n",
        "from pyspark.sql.types import DateType\n",
        "\n",
        "# Initialize Spark session\n",
        "spark = SparkSession.builder.master(\"local\").appName(\"WeekdaysBetweenDates\").getOrCreate()\n"
      ],
      "metadata": {
        "id": "XgamdDS5bkOR"
      },
      "execution_count": 4,
      "outputs": []
    },
    {
      "cell_type": "code",
      "source": [
        "# Sample data of start and end dates\n",
        "data = [\n",
        "    (\"2024-10-01\", \"2024-10-15\"),\n",
        "    (\"2024-09-10\", \"2024-09-25\"),\n",
        "    (\"2024-08-01\", \"2024-08-10\")\n",
        "]\n",
        "\n",
        "# Create a DataFrame\n",
        "columns = [\"StartDate\", \"EndDate\"]\n",
        "df = spark.createDataFrame(data, columns)\n",
        "\n",
        "# Convert the date columns from string to date type\n",
        "df = df.withColumn(\"StartDate\", df[\"StartDate\"].cast(DateType())) \\\n",
        "       .withColumn(\"EndDate\", df[\"EndDate\"].cast(DateType()))\n",
        "\n",
        "# Show the data\n",
        "df.show()\n",
        "\n",
        "# Register the DataFrame as a temporary SQL table\n",
        "df.createOrReplaceTempView(\"DatesTable\")\n"
      ],
      "metadata": {
        "colab": {
          "base_uri": "https://localhost:8080/"
        },
        "id": "fW8pfvTxcBgJ",
        "outputId": "9d009cd5-dbea-44e8-aaff-40dc2295aa2d"
      },
      "execution_count": 5,
      "outputs": [
        {
          "output_type": "stream",
          "name": "stdout",
          "text": [
            "+----------+----------+\n",
            "| StartDate|   EndDate|\n",
            "+----------+----------+\n",
            "|2024-10-01|2024-10-15|\n",
            "|2024-09-10|2024-09-25|\n",
            "|2024-08-01|2024-08-10|\n",
            "+----------+----------+\n",
            "\n"
          ]
        }
      ]
    },
    {
      "cell_type": "code",
      "source": [
        "\n"
      ],
      "metadata": {
        "id": "dUR4rHaKcNl8"
      },
      "execution_count": 6,
      "outputs": []
    },
    {
      "cell_type": "code",
      "source": [
        "spark.sql(\"\"\"\n",
        "select StartDate,EndDate,total_days_including_start_end,full_weekend_days,StartDay_as_Saturday,EndDay_as_Sunday,(total_days_including_start_end - full_weekend_days - StartDay_as_Saturday - EndDay_as_Sunday) as weekdays from (\n",
        "SELECT StartDate, EndDate,\n",
        "       (DATEDIFF(EndDate, StartDate) + 1) AS total_days_including_start_end,\n",
        "       (Floor(DATEDIFF(EndDate, StartDate)/7) *2) as full_weekend_days,\n",
        "       (case when DATE_FORMAT(StartDate, 'EEEE') = 'Saturday' THEN 1 ELSE 0 END) as StartDay_as_Saturday,\n",
        "       (case when DATE_FORMAT(EndDate, 'EEEE') = 'Sunday' THEN 1 ELSE 0 END) as EndDay_as_Sunday\n",
        "\n",
        "FROM DatesTable\n",
        ") as weekdayCalc\n",
        "\"\"\").show()\n",
        "\n"
      ],
      "metadata": {
        "colab": {
          "base_uri": "https://localhost:8080/"
        },
        "id": "TIIGBQVvdZVl",
        "outputId": "f8a5c057-3411-4c25-c8ee-bf6f4680e52c"
      },
      "execution_count": 14,
      "outputs": [
        {
          "output_type": "stream",
          "name": "stdout",
          "text": [
            "+----------+----------+------------------------------+-----------------+--------------------+----------------+--------+\n",
            "| StartDate|   EndDate|total_days_including_start_end|full_weekend_days|StartDay_as_Saturday|EndDay_as_Sunday|weekdays|\n",
            "+----------+----------+------------------------------+-----------------+--------------------+----------------+--------+\n",
            "|2024-10-01|2024-10-15|                            15|                4|                   0|               0|      11|\n",
            "|2024-09-10|2024-09-25|                            16|                4|                   0|               0|      12|\n",
            "|2024-08-01|2024-08-10|                            10|                2|                   0|               0|       8|\n",
            "+----------+----------+------------------------------+-----------------+--------------------+----------------+--------+\n",
            "\n"
          ]
        }
      ]
    },
    {
      "cell_type": "code",
      "source": [],
      "metadata": {
        "id": "bdkm1z-Uda45"
      },
      "execution_count": null,
      "outputs": []
    }
  ]
}