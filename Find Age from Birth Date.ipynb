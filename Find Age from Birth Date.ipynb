{
  "nbformat": 4,
  "nbformat_minor": 0,
  "metadata": {
    "colab": {
      "provenance": [],
      "authorship_tag": "ABX9TyOkMyQb7ZCR6qPzfPb6VNTS",
      "include_colab_link": true
    },
    "kernelspec": {
      "name": "python3",
      "display_name": "Python 3"
    },
    "language_info": {
      "name": "python"
    }
  },
  "cells": [
    {
      "cell_type": "markdown",
      "metadata": {
        "id": "view-in-github",
        "colab_type": "text"
      },
      "source": [
        "<a href=\"https://colab.research.google.com/github/candidlpd/pyspark-coding-interview/blob/master/Find%20Age%20from%20Birth%20Date.ipynb\" target=\"_parent\"><img src=\"https://colab.research.google.com/assets/colab-badge.svg\" alt=\"Open In Colab\"/></a>"
      ]
    },
    {
      "cell_type": "code",
      "execution_count": 1,
      "metadata": {
        "colab": {
          "base_uri": "https://localhost:8080/"
        },
        "id": "Q2eSbeYQ6X1h",
        "outputId": "81f54c17-4fb2-4884-f005-76b63dff2cc7"
      },
      "outputs": [
        {
          "output_type": "stream",
          "name": "stdout",
          "text": [
            "Collecting pyspark\n",
            "  Downloading pyspark-3.5.3.tar.gz (317.3 MB)\n",
            "\u001b[2K     \u001b[90m━━━━━━━━━━━━━━━━━━━━━━━━━━━━━━━━━━━━━━━━\u001b[0m \u001b[32m317.3/317.3 MB\u001b[0m \u001b[31m4.5 MB/s\u001b[0m eta \u001b[36m0:00:00\u001b[0m\n",
            "\u001b[?25h  Preparing metadata (setup.py) ... \u001b[?25l\u001b[?25hdone\n",
            "Requirement already satisfied: py4j==0.10.9.7 in /usr/local/lib/python3.10/dist-packages (from pyspark) (0.10.9.7)\n",
            "Building wheels for collected packages: pyspark\n",
            "  Building wheel for pyspark (setup.py) ... \u001b[?25l\u001b[?25hdone\n",
            "  Created wheel for pyspark: filename=pyspark-3.5.3-py2.py3-none-any.whl size=317840625 sha256=048a93c6f87f976598523db983cd2ce670dcad7d862ce7be241b53a92ee73c4d\n",
            "  Stored in directory: /root/.cache/pip/wheels/1b/3a/92/28b93e2fbfdbb07509ca4d6f50c5e407f48dce4ddbda69a4ab\n",
            "Successfully built pyspark\n",
            "Installing collected packages: pyspark\n",
            "Successfully installed pyspark-3.5.3\n"
          ]
        }
      ],
      "source": [
        "!pip install pyspark"
      ]
    },
    {
      "cell_type": "code",
      "source": [
        "from pyspark.sql import SparkSession\n",
        "from pyspark.sql import functions as F\n",
        "from pyspark.sql.types import DateType\n",
        "\n",
        "# Initialize Spark session\n",
        "spark = SparkSession.builder.master(\"local\").appName(\"WeekdaysBetweenDates\").getOrCreate()"
      ],
      "metadata": {
        "id": "MeE56Jb-6Yu1"
      },
      "execution_count": 2,
      "outputs": []
    },
    {
      "cell_type": "code",
      "source": [
        "from pyspark.sql import SparkSession\n",
        "from pyspark.sql.types import StructType, StructField, StringType, IntegerType, DateType\n",
        "from datetime import datetime\n",
        "\n",
        "# Initialize Spark session\n",
        "spark = SparkSession.builder.appName(\"SparkSQLExample\").getOrCreate()\n",
        "\n",
        "# Define the schema for the DataFrame\n",
        "schema = StructType([\n",
        "    StructField(\"FirstName\", StringType(), True),\n",
        "    StructField(\"LastName\", StringType(), True),\n",
        "    StructField(\"BirthDate\", DateType(), True)\n",
        "\n",
        "])\n",
        "\n",
        "# Create data, converting date strings to datetime.date objects\n",
        "data = [\n",
        "    (\"Guy\", \"Gilbert\", datetime.strptime(\"1981-11-12\", \"%Y-%m-%d\").date()),\n",
        "    (\"Kevin\", \"Brown\", datetime.strptime(\"1985-02-01\", \"%Y-%m-%d\").date()),\n",
        "    (\"Roberto\", \"Tamburello\", datetime.strptime(\"1974-06-12\", \"%Y-%m-%d\").date()),\n",
        "    (\"Rob\", \"Walters\", datetime.strptime(\"1974-07-23\", \"%Y-%m-%d\").date()),\n",
        "    (\"Thierry\", \"D'Hers\", datetime.strptime(\"1959-02-26\", \"%Y-%m-%d\").date()),\n",
        "    (\"David\", \"Bradley\", datetime.strptime(\"1974-10-17\", \"%Y-%m-%d\").date()),\n",
        "    (\"JoLynn\", \"Dobney\", datetime.strptime(\"1955-08-16\", \"%Y-%m-%d\").date()),\n",
        "    (\"Ruth\", \"Ellerbrock\", datetime.strptime(\"1956-01-03\", \"%Y-%m-%d\").date()),\n",
        "    (\"Gail\", \"Erickson\", datetime.strptime(\"1952-04-27\", \"%Y-%m-%d\").date())\n",
        "]\n",
        "\n",
        "# Create a DataFrame from the data\n",
        "df = spark.createDataFrame(data, schema=schema)\n",
        "\n",
        "# Show the DataFrame\n",
        "df.show()\n"
      ],
      "metadata": {
        "colab": {
          "base_uri": "https://localhost:8080/"
        },
        "id": "1NKQkrf_6Y5m",
        "outputId": "8a1532b7-c3c4-450e-ab66-af2d7063c7e1"
      },
      "execution_count": 7,
      "outputs": [
        {
          "output_type": "stream",
          "name": "stdout",
          "text": [
            "+---------+----------+----------+\n",
            "|FirstName|  LastName| BirthDate|\n",
            "+---------+----------+----------+\n",
            "|      Guy|   Gilbert|1981-11-12|\n",
            "|    Kevin|     Brown|1985-02-01|\n",
            "|  Roberto|Tamburello|1974-06-12|\n",
            "|      Rob|   Walters|1974-07-23|\n",
            "|  Thierry|    D'Hers|1959-02-26|\n",
            "|    David|   Bradley|1974-10-17|\n",
            "|   JoLynn|    Dobney|1955-08-16|\n",
            "|     Ruth|Ellerbrock|1956-01-03|\n",
            "|     Gail|  Erickson|1952-04-27|\n",
            "+---------+----------+----------+\n",
            "\n"
          ]
        }
      ]
    },
    {
      "cell_type": "code",
      "source": [
        "# Register the DataFrame as a temporary SQL view\n",
        "df.createOrReplaceTempView(\"People\")\n",
        "\n",
        "# Now you can run SQL queries on the \"People\" view\n",
        "spark.sql(\"SELECT * FROM People\").show()\n",
        "\n"
      ],
      "metadata": {
        "colab": {
          "base_uri": "https://localhost:8080/"
        },
        "id": "3_ENtA5A6Y70",
        "outputId": "41c94d0d-ceaa-4317-d5dd-bd1dc6b2937b"
      },
      "execution_count": 8,
      "outputs": [
        {
          "output_type": "stream",
          "name": "stdout",
          "text": [
            "+---------+----------+----------+\n",
            "|FirstName|  LastName| BirthDate|\n",
            "+---------+----------+----------+\n",
            "|      Guy|   Gilbert|1981-11-12|\n",
            "|    Kevin|     Brown|1985-02-01|\n",
            "|  Roberto|Tamburello|1974-06-12|\n",
            "|      Rob|   Walters|1974-07-23|\n",
            "|  Thierry|    D'Hers|1959-02-26|\n",
            "|    David|   Bradley|1974-10-17|\n",
            "|   JoLynn|    Dobney|1955-08-16|\n",
            "|     Ruth|Ellerbrock|1956-01-03|\n",
            "|     Gail|  Erickson|1952-04-27|\n",
            "+---------+----------+----------+\n",
            "\n"
          ]
        }
      ]
    },
    {
      "cell_type": "code",
      "source": [
        "spark.sql(\"\"\"\n",
        "select FirstName, LastName,BirthDate,\n",
        "FLOOR(DATEDIFF(CURRENT_DATE(), BirthDate)/365) as age\n",
        "from people\n",
        "\"\"\").show()"
      ],
      "metadata": {
        "colab": {
          "base_uri": "https://localhost:8080/"
        },
        "id": "w1EaLB0E6Y-K",
        "outputId": "d4af1a9f-9ef6-4ae5-dfc7-c13d64c29702"
      },
      "execution_count": 9,
      "outputs": [
        {
          "output_type": "stream",
          "name": "stdout",
          "text": [
            "+---------+----------+----------+---+\n",
            "|FirstName|  LastName| BirthDate|age|\n",
            "+---------+----------+----------+---+\n",
            "|      Guy|   Gilbert|1981-11-12| 42|\n",
            "|    Kevin|     Brown|1985-02-01| 39|\n",
            "|  Roberto|Tamburello|1974-06-12| 50|\n",
            "|      Rob|   Walters|1974-07-23| 50|\n",
            "|  Thierry|    D'Hers|1959-02-26| 65|\n",
            "|    David|   Bradley|1974-10-17| 50|\n",
            "|   JoLynn|    Dobney|1955-08-16| 69|\n",
            "|     Ruth|Ellerbrock|1956-01-03| 68|\n",
            "|     Gail|  Erickson|1952-04-27| 72|\n",
            "+---------+----------+----------+---+\n",
            "\n"
          ]
        }
      ]
    },
    {
      "cell_type": "code",
      "source": [
        "from pyspark.sql import functions as F\n",
        "\n",
        "df_with_age = df.withColumn(\"age\",\n",
        "                           F.floor(F.date_diff(F.current_date(), F.col(\"BirthDate\"))/365)\n",
        "                           )\n",
        "\n",
        "df_with_age.show()"
      ],
      "metadata": {
        "colab": {
          "base_uri": "https://localhost:8080/"
        },
        "id": "VunpNeEb6ZAR",
        "outputId": "e58cf2f9-3531-47af-e07f-8e99eec0a2ab"
      },
      "execution_count": 14,
      "outputs": [
        {
          "output_type": "stream",
          "name": "stdout",
          "text": [
            "+---------+----------+----------+---+\n",
            "|FirstName|  LastName| BirthDate|age|\n",
            "+---------+----------+----------+---+\n",
            "|      Guy|   Gilbert|1981-11-12| 42|\n",
            "|    Kevin|     Brown|1985-02-01| 39|\n",
            "|  Roberto|Tamburello|1974-06-12| 50|\n",
            "|      Rob|   Walters|1974-07-23| 50|\n",
            "|  Thierry|    D'Hers|1959-02-26| 65|\n",
            "|    David|   Bradley|1974-10-17| 50|\n",
            "|   JoLynn|    Dobney|1955-08-16| 69|\n",
            "|     Ruth|Ellerbrock|1956-01-03| 68|\n",
            "|     Gail|  Erickson|1952-04-27| 72|\n",
            "+---------+----------+----------+---+\n",
            "\n"
          ]
        }
      ]
    }
  ]
}